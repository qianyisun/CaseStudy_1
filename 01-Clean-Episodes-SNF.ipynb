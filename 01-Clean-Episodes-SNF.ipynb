{
 "cells": [
  {
   "cell_type": "code",
   "execution_count": 40,
   "metadata": {},
   "outputs": [],
   "source": [
    "import numpy as np\n",
    "import pandas as pd"
   ]
  },
  {
   "cell_type": "code",
   "execution_count": 41,
   "metadata": {},
   "outputs": [],
   "source": [
    "SNFs = pd.read_excel('Data/SNFs.xlsx')"
   ]
  },
  {
   "cell_type": "code",
   "execution_count": 42,
   "metadata": {},
   "outputs": [],
   "source": [
    "Episodes = pd.read_excel('Data/Episodes.xlsx')"
   ]
  },
  {
   "cell_type": "code",
   "execution_count": 43,
   "metadata": {},
   "outputs": [
    {
     "data": {
      "text/html": [
       "<div>\n",
       "<style scoped>\n",
       "    .dataframe tbody tr th:only-of-type {\n",
       "        vertical-align: middle;\n",
       "    }\n",
       "\n",
       "    .dataframe tbody tr th {\n",
       "        vertical-align: top;\n",
       "    }\n",
       "\n",
       "    .dataframe thead th {\n",
       "        text-align: right;\n",
       "    }\n",
       "</style>\n",
       "<table border=\"1\" class=\"dataframe\">\n",
       "  <thead>\n",
       "    <tr style=\"text-align: right;\">\n",
       "      <th></th>\n",
       "      <th>ProviderName</th>\n",
       "      <th>PID</th>\n",
       "      <th>ProviderPracticeAddress1</th>\n",
       "      <th>ProviderPracticeAddress2</th>\n",
       "      <th>ProviderPracticeCity</th>\n",
       "      <th>ProviderPracticeStateCode</th>\n",
       "      <th>ProviderPracticeZipCode</th>\n",
       "      <th>County</th>\n",
       "    </tr>\n",
       "  </thead>\n",
       "  <tbody>\n",
       "    <tr>\n",
       "      <th>0</th>\n",
       "      <td>648 Medical Squadron</td>\n",
       "      <td>1</td>\n",
       "      <td>8006 CHENNAULT RD</td>\n",
       "      <td>STE 1</td>\n",
       "      <td>BROOKS CITY BASE</td>\n",
       "      <td>TX</td>\n",
       "      <td>78235</td>\n",
       "      <td>Bexar</td>\n",
       "    </tr>\n",
       "    <tr>\n",
       "      <th>1</th>\n",
       "      <td>Abilene Nursing and Rehabilitation Center</td>\n",
       "      <td>2</td>\n",
       "      <td>2630 OLD ANSON RD</td>\n",
       "      <td>NaN</td>\n",
       "      <td>ABILENE</td>\n",
       "      <td>TX</td>\n",
       "      <td>79603</td>\n",
       "      <td>Taylor</td>\n",
       "    </tr>\n",
       "    <tr>\n",
       "      <th>2</th>\n",
       "      <td>Abilene Regional Medical Center</td>\n",
       "      <td>3</td>\n",
       "      <td>6250 US HIGHWAY 83</td>\n",
       "      <td>NaN</td>\n",
       "      <td>ABILENE</td>\n",
       "      <td>TX</td>\n",
       "      <td>79606</td>\n",
       "      <td>Taylor</td>\n",
       "    </tr>\n",
       "    <tr>\n",
       "      <th>3</th>\n",
       "      <td>Abilene Regional Medical Center Skilled Nursin...</td>\n",
       "      <td>4</td>\n",
       "      <td>6250 HIGHWAY 83 84 AT ANTILLEY RD</td>\n",
       "      <td>NaN</td>\n",
       "      <td>ABILENE</td>\n",
       "      <td>TX</td>\n",
       "      <td>79606</td>\n",
       "      <td>Taylor</td>\n",
       "    </tr>\n",
       "    <tr>\n",
       "      <th>4</th>\n",
       "      <td>Absolutely Angels, Inc</td>\n",
       "      <td>5</td>\n",
       "      <td>936 E PRODUCTION DR</td>\n",
       "      <td>NaN</td>\n",
       "      <td>PILOT POINT</td>\n",
       "      <td>TX</td>\n",
       "      <td>76258</td>\n",
       "      <td>Denton</td>\n",
       "    </tr>\n",
       "  </tbody>\n",
       "</table>\n",
       "</div>"
      ],
      "text/plain": [
       "                                        ProviderName  PID  \\\n",
       "0                               648 Medical Squadron    1   \n",
       "1          Abilene Nursing and Rehabilitation Center    2   \n",
       "2                    Abilene Regional Medical Center    3   \n",
       "3  Abilene Regional Medical Center Skilled Nursin...    4   \n",
       "4                             Absolutely Angels, Inc    5   \n",
       "\n",
       "            ProviderPracticeAddress1 ProviderPracticeAddress2  \\\n",
       "0                  8006 CHENNAULT RD                    STE 1   \n",
       "1                  2630 OLD ANSON RD                      NaN   \n",
       "2                 6250 US HIGHWAY 83                      NaN   \n",
       "3  6250 HIGHWAY 83 84 AT ANTILLEY RD                      NaN   \n",
       "4                936 E PRODUCTION DR                      NaN   \n",
       "\n",
       "  ProviderPracticeCity ProviderPracticeStateCode  ProviderPracticeZipCode  \\\n",
       "0     BROOKS CITY BASE                        TX                    78235   \n",
       "1              ABILENE                        TX                    79603   \n",
       "2              ABILENE                        TX                    79606   \n",
       "3              ABILENE                        TX                    79606   \n",
       "4          PILOT POINT                        TX                    76258   \n",
       "\n",
       "   County  \n",
       "0   Bexar  \n",
       "1  Taylor  \n",
       "2  Taylor  \n",
       "3  Taylor  \n",
       "4  Denton  "
      ]
     },
     "execution_count": 43,
     "metadata": {},
     "output_type": "execute_result"
    }
   ],
   "source": [
    "SNFs.head()"
   ]
  },
  {
   "cell_type": "code",
   "execution_count": 44,
   "metadata": {},
   "outputs": [
    {
     "data": {
      "text/html": [
       "<div>\n",
       "<style scoped>\n",
       "    .dataframe tbody tr th:only-of-type {\n",
       "        vertical-align: middle;\n",
       "    }\n",
       "\n",
       "    .dataframe tbody tr th {\n",
       "        vertical-align: top;\n",
       "    }\n",
       "\n",
       "    .dataframe thead th {\n",
       "        text-align: right;\n",
       "    }\n",
       "</style>\n",
       "<table border=\"1\" class=\"dataframe\">\n",
       "  <thead>\n",
       "    <tr style=\"text-align: right;\">\n",
       "      <th></th>\n",
       "      <th>PID</th>\n",
       "      <th>EpisodeID</th>\n",
       "      <th>ContractType</th>\n",
       "      <th>AdmitDate</th>\n",
       "      <th>DischargeDate</th>\n",
       "    </tr>\n",
       "  </thead>\n",
       "  <tbody>\n",
       "    <tr>\n",
       "      <th>0</th>\n",
       "      <td>530</td>\n",
       "      <td>1</td>\n",
       "      <td>CT1</td>\n",
       "      <td>12/1/2019</td>\n",
       "      <td>2020-01-30</td>\n",
       "    </tr>\n",
       "    <tr>\n",
       "      <th>1</th>\n",
       "      <td>1107</td>\n",
       "      <td>2</td>\n",
       "      <td>CT1</td>\n",
       "      <td>12/1/2019</td>\n",
       "      <td>NaT</td>\n",
       "    </tr>\n",
       "    <tr>\n",
       "      <th>2</th>\n",
       "      <td>1107</td>\n",
       "      <td>3</td>\n",
       "      <td>CT2</td>\n",
       "      <td>12/1/2019</td>\n",
       "      <td>2019-12-07</td>\n",
       "    </tr>\n",
       "    <tr>\n",
       "      <th>3</th>\n",
       "      <td>1107</td>\n",
       "      <td>4</td>\n",
       "      <td>CT2</td>\n",
       "      <td>12/1/2019</td>\n",
       "      <td>2019-12-02</td>\n",
       "    </tr>\n",
       "    <tr>\n",
       "      <th>4</th>\n",
       "      <td>1249</td>\n",
       "      <td>5</td>\n",
       "      <td>CT1</td>\n",
       "      <td>12/1/2019</td>\n",
       "      <td>NaT</td>\n",
       "    </tr>\n",
       "  </tbody>\n",
       "</table>\n",
       "</div>"
      ],
      "text/plain": [
       "    PID  EpisodeID ContractType  AdmitDate DischargeDate\n",
       "0   530          1          CT1  12/1/2019    2020-01-30\n",
       "1  1107          2          CT1  12/1/2019           NaT\n",
       "2  1107          3          CT2  12/1/2019    2019-12-07\n",
       "3  1107          4          CT2  12/1/2019    2019-12-02\n",
       "4  1249          5          CT1  12/1/2019           NaT"
      ]
     },
     "execution_count": 44,
     "metadata": {},
     "output_type": "execute_result"
    }
   ],
   "source": [
    "Episodes.head()"
   ]
  },
  {
   "cell_type": "code",
   "execution_count": 45,
   "metadata": {},
   "outputs": [],
   "source": [
    "# merge SNFs with Episodes and only keep SNF that has patient data in Episodes\n",
    "# Reasons to do this: simplier question and, for the SNFs that do not have any patient record,\n",
    "# no way to confirm that they need CCs and they need how many CCs.\n",
    "common_epi_snf = SNFs.merge(Episodes, on=[\"PID\"])\n",
    "SNFs_no_episodes = SNFs[~SNFs.PID.isin(common_epi_snf.PID)]"
   ]
  },
  {
   "cell_type": "code",
   "execution_count": 46,
   "metadata": {},
   "outputs": [],
   "source": [
    "common_snf = SNFs.merge(SNFs_no_episodes, on=[\"PID\"])\n",
    "SNFs_with_episodes = SNFs[~SNFs.PID.isin(common_snf.PID)]"
   ]
  },
  {
   "cell_type": "code",
   "execution_count": 47,
   "metadata": {},
   "outputs": [],
   "source": [
    "# Align with unique address and city\n",
    "repeat = SNFs_with_episodes[SNFs_with_episodes.duplicated(subset=['ProviderPracticeAddress1', 'ProviderPracticeCity'],keep=False)].sort_values(by ='ProviderPracticeAddress1')"
   ]
  },
  {
   "cell_type": "code",
   "execution_count": 48,
   "metadata": {},
   "outputs": [],
   "source": [
    "common_both = SNFs_with_episodes.merge(repeat, on=[\"PID\"])\n",
    "SNFs_unique = SNFs_with_episodes[~SNFs_with_episodes.PID.isin(common_both.PID)]"
   ]
  },
  {
   "cell_type": "code",
   "execution_count": 49,
   "metadata": {},
   "outputs": [],
   "source": [
    "repeat_for_join = repeat.groupby(['ProviderPracticeAddress1','County'], as_index = False).first()"
   ]
  },
  {
   "cell_type": "code",
   "execution_count": 50,
   "metadata": {},
   "outputs": [],
   "source": [
    "frames = [SNFs_unique, repeat_for_join]\n",
    "SNFs_fixed = pd.concat(frames, sort = False)"
   ]
  },
  {
   "cell_type": "code",
   "execution_count": 51,
   "metadata": {},
   "outputs": [],
   "source": [
    "SNFs_fixed.to_csv('Data/SNFs.csv', index=False)"
   ]
  },
  {
   "cell_type": "code",
   "execution_count": 52,
   "metadata": {},
   "outputs": [],
   "source": [
    "#Replacing wrong PIDs\n",
    "Episodes['PID'] = Episodes['PID'].replace([560, 1770, 1632, 484, 147, 463, 804, 474, 837, 757, 135, 612, 16],[561, 1771, 1631, 485, 146, 464, 802, 478, 836, 38, 138, 613, 12])"
   ]
  },
  {
   "cell_type": "code",
   "execution_count": 53,
   "metadata": {},
   "outputs": [],
   "source": [
    "# convert to datetime type\n",
    "Episodes['AdmitDate']= pd.to_datetime(Episodes['AdmitDate'])\n",
    "Episodes['DischargeDate']= pd.to_datetime(Episodes['DischargeDate'])"
   ]
  },
  {
   "cell_type": "code",
   "execution_count": 54,
   "metadata": {},
   "outputs": [],
   "source": [
    "Episodes = Episodes.dropna(axis=0, subset=['DischargeDate'])"
   ]
  },
  {
   "cell_type": "code",
   "execution_count": 55,
   "metadata": {},
   "outputs": [],
   "source": [
    "# have a new column store time difference\n",
    "Episodes['time_diff'] = Episodes['DischargeDate'] - Episodes['AdmitDate']"
   ]
  },
  {
   "cell_type": "code",
   "execution_count": 56,
   "metadata": {},
   "outputs": [],
   "source": [
    "Episodes = pd.DataFrame(Episodes)"
   ]
  },
  {
   "cell_type": "code",
   "execution_count": 57,
   "metadata": {},
   "outputs": [],
   "source": [
    "Episodes = Episodes[Episodes['time_diff'].dt.days >= 0]"
   ]
  },
  {
   "cell_type": "code",
   "execution_count": 58,
   "metadata": {},
   "outputs": [],
   "source": [
    "Episodes = Episodes.drop(['time_diff'], axis = 1)"
   ]
  },
  {
   "cell_type": "code",
   "execution_count": 59,
   "metadata": {},
   "outputs": [],
   "source": [
    "Episodes.to_csv('Data/Episodes.csv', index=False)"
   ]
  },
  {
   "cell_type": "code",
   "execution_count": null,
   "metadata": {},
   "outputs": [],
   "source": []
  }
 ],
 "metadata": {
  "kernelspec": {
   "display_name": "Python 3",
   "language": "python",
   "name": "python3"
  },
  "language_info": {
   "codemirror_mode": {
    "name": "ipython",
    "version": 3
   },
   "file_extension": ".py",
   "mimetype": "text/x-python",
   "name": "python",
   "nbconvert_exporter": "python",
   "pygments_lexer": "ipython3",
   "version": "3.8.5"
  }
 },
 "nbformat": 4,
 "nbformat_minor": 4
}
