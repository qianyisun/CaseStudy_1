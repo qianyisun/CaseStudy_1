{
 "cells": [
  {
   "cell_type": "code",
   "execution_count": 12,
   "metadata": {},
   "outputs": [],
   "source": [
    "import pandas as pd\n",
    "import numpy as np"
   ]
  },
  {
   "cell_type": "code",
   "execution_count": 13,
   "metadata": {},
   "outputs": [],
   "source": [
    "episodes_dur = pd.read_csv('Data/episodes_dur.csv')"
   ]
  },
  {
   "cell_type": "code",
   "execution_count": 14,
   "metadata": {},
   "outputs": [],
   "source": [
    "episodes_dur['num_mins'] = \"\""
   ]
  },
  {
   "cell_type": "code",
   "execution_count": 15,
   "metadata": {},
   "outputs": [],
   "source": [
    "for index, row in episodes_dur.iterrows():\n",
    "    if row.ContractType == 'CT1':\n",
    "        if row.duration <= 3:\n",
    "            episodes_dur.loc[index, 'num_mins'] = 43\n",
    "        elif row.duration > 3:\n",
    "            Num_weeks = np.ceil(row.duration/7)\n",
    "            episodes_dur.loc[index, 'num_mins'] = 31 + (Num_weeks * 34) + 12\n",
    "    elif row.ContractType == 'CT2':\n",
    "        if row.duration <= 3:\n",
    "            episodes_dur.loc[index, 'num_mins'] = 117\n",
    "        elif row.duration > 3:\n",
    "            Num_weeks = np.ceil(row.duration/7)\n",
    "            episodes_dur.loc[index, 'num_mins'] = 83 + (Num_weeks * 66) + 34"
   ]
  },
  {
   "cell_type": "code",
   "execution_count": 16,
   "metadata": {},
   "outputs": [],
   "source": [
    "episodes_dur = pd.DataFrame(episodes_dur.drop('Unnamed: 0', axis = 1))"
   ]
  },
  {
   "cell_type": "code",
   "execution_count": 17,
   "metadata": {},
   "outputs": [],
   "source": [
    "count_series = episodes_dur.groupby(['PID', 'ContractType']).size()"
   ]
  },
  {
   "cell_type": "code",
   "execution_count": 18,
   "metadata": {},
   "outputs": [],
   "source": [
    "pat_num_PID_CT = count_series.to_frame(name = 'size').reset_index()"
   ]
  },
  {
   "cell_type": "code",
   "execution_count": 19,
   "metadata": {},
   "outputs": [],
   "source": [
    "duration_PID_CT = episodes_dur.groupby(['PID', 'ContractType'], as_index=False)['num_mins'].sum()"
   ]
  },
  {
   "cell_type": "code",
   "execution_count": 20,
   "metadata": {},
   "outputs": [],
   "source": [
    "Pat_duration_sum_SNF_CT = pat_num_PID_CT.merge(duration_PID_CT, on=['PID', 'ContractType'], how='inner')"
   ]
  },
  {
   "cell_type": "code",
   "execution_count": 21,
   "metadata": {},
   "outputs": [],
   "source": [
    "Pat_duration_sum_SNF_CT[\"average_time_spent\"] = Pat_duration_sum_SNF_CT[\"num_mins\"]/Pat_duration_sum_SNF_CT[\"size\"]"
   ]
  },
  {
   "cell_type": "code",
   "execution_count": 22,
   "metadata": {},
   "outputs": [],
   "source": [
    "Pat_duration_sum_SNF_CT.to_csv('Data/avg_duration_per_SNF_CT.csv', index=False)"
   ]
  },
  {
   "cell_type": "code",
   "execution_count": null,
   "metadata": {},
   "outputs": [],
   "source": []
  }
 ],
 "metadata": {
  "kernelspec": {
   "display_name": "Python 3",
   "language": "python",
   "name": "python3"
  },
  "language_info": {
   "codemirror_mode": {
    "name": "ipython",
    "version": 3
   },
   "file_extension": ".py",
   "mimetype": "text/x-python",
   "name": "python",
   "nbconvert_exporter": "python",
   "pygments_lexer": "ipython3",
   "version": "3.8.5"
  }
 },
 "nbformat": 4,
 "nbformat_minor": 4
}
