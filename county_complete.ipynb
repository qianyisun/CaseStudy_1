{
 "cells": [
  {
   "cell_type": "code",
   "execution_count": 4,
   "metadata": {},
   "outputs": [],
   "source": [
    "import numpy as np\n",
    "import pandas as pd"
   ]
  },
  {
   "cell_type": "code",
   "execution_count": 5,
   "metadata": {},
   "outputs": [],
   "source": [
    "SNF = pd.read_excel('data/SNFs.xlsx')  "
   ]
  },
  {
   "cell_type": "code",
   "execution_count": 6,
   "metadata": {
    "scrolled": true
   },
   "outputs": [
    {
     "data": {
      "text/plain": [
       "139"
      ]
     },
     "execution_count": 6,
     "metadata": {},
     "output_type": "execute_result"
    }
   ],
   "source": [
    "SNF.County.isnull().sum()"
   ]
  },
  {
   "cell_type": "code",
   "execution_count": 8,
   "metadata": {},
   "outputs": [],
   "source": [
    "zipcode = pd.read_csv('uszips.csv')"
   ]
  },
  {
   "cell_type": "code",
   "execution_count": 9,
   "metadata": {},
   "outputs": [],
   "source": [
    "new = pd.merge(SNF,zipcode,how='left',left_on='ProviderPracticeZipCode', right_on='zip')\n",
    "new.to_csv('new_SNF.csv')"
   ]
  },
  {
   "cell_type": "code",
   "execution_count": 10,
   "metadata": {},
   "outputs": [
    {
     "data": {
      "text/plain": [
       "139"
      ]
     },
     "execution_count": 10,
     "metadata": {},
     "output_type": "execute_result"
    }
   ],
   "source": [
    "new.County.isna().sum()"
   ]
  },
  {
   "cell_type": "code",
   "execution_count": 11,
   "metadata": {},
   "outputs": [
    {
     "data": {
      "text/plain": [
       "1"
      ]
     },
     "execution_count": 11,
     "metadata": {},
     "output_type": "execute_result"
    }
   ],
   "source": [
    "new.county_name.isna().sum()"
   ]
  },
  {
   "cell_type": "code",
   "execution_count": 18,
   "metadata": {
    "scrolled": true
   },
   "outputs": [
    {
     "data": {
      "text/html": [
       "<div>\n",
       "<style scoped>\n",
       "    .dataframe tbody tr th:only-of-type {\n",
       "        vertical-align: middle;\n",
       "    }\n",
       "\n",
       "    .dataframe tbody tr th {\n",
       "        vertical-align: top;\n",
       "    }\n",
       "\n",
       "    .dataframe thead th {\n",
       "        text-align: right;\n",
       "    }\n",
       "</style>\n",
       "<table border=\"1\" class=\"dataframe\">\n",
       "  <thead>\n",
       "    <tr style=\"text-align: right;\">\n",
       "      <th></th>\n",
       "      <th>ProviderName</th>\n",
       "      <th>PID</th>\n",
       "      <th>ProviderPracticeAddress1</th>\n",
       "      <th>ProviderPracticeAddress2</th>\n",
       "      <th>ProviderPracticeCity</th>\n",
       "      <th>ProviderPracticeStateCode</th>\n",
       "      <th>ProviderPracticeZipCode</th>\n",
       "      <th>County</th>\n",
       "      <th>zip</th>\n",
       "      <th>lat</th>\n",
       "      <th>...</th>\n",
       "      <th>population</th>\n",
       "      <th>density</th>\n",
       "      <th>county_fips</th>\n",
       "      <th>county_name</th>\n",
       "      <th>county_weights</th>\n",
       "      <th>county_names_all</th>\n",
       "      <th>county_fips_all</th>\n",
       "      <th>imprecise</th>\n",
       "      <th>military</th>\n",
       "      <th>timezone</th>\n",
       "    </tr>\n",
       "  </thead>\n",
       "  <tbody>\n",
       "  </tbody>\n",
       "</table>\n",
       "<p>0 rows × 26 columns</p>\n",
       "</div>"
      ],
      "text/plain": [
       "Empty DataFrame\n",
       "Columns: [ProviderName, PID, ProviderPracticeAddress1, ProviderPracticeAddress2, ProviderPracticeCity, ProviderPracticeStateCode, ProviderPracticeZipCode, County, zip, lat, lng, city, state_id, state_name, zcta, parent_zcta, population, density, county_fips, county_name, county_weights, county_names_all, county_fips_all, imprecise, military, timezone]\n",
       "Index: []\n",
       "\n",
       "[0 rows x 26 columns]"
      ]
     },
     "execution_count": 18,
     "metadata": {},
     "output_type": "execute_result"
    }
   ],
   "source": [
    "new[new['county_name'].isnull()]"
   ]
  },
  {
   "cell_type": "code",
   "execution_count": 17,
   "metadata": {
    "scrolled": true
   },
   "outputs": [
    {
     "name": "stderr",
     "output_type": "stream",
     "text": [
      "/Users/xiaopaoshangtiantang/opt/anaconda3/lib/python3.7/site-packages/ipykernel_launcher.py:1: SettingWithCopyWarning: \n",
      "A value is trying to be set on a copy of a slice from a DataFrame\n",
      "\n",
      "See the caveats in the documentation: http://pandas.pydata.org/pandas-docs/stable/user_guide/indexing.html#returning-a-view-versus-a-copy\n",
      "  \"\"\"Entry point for launching an IPython kernel.\n"
     ]
    }
   ],
   "source": [
    "new['county_name'][1181] = 'Collin'"
   ]
  },
  {
   "cell_type": "code",
   "execution_count": 19,
   "metadata": {
    "scrolled": true
   },
   "outputs": [
    {
     "data": {
      "text/plain": [
       "'Collin'"
      ]
     },
     "execution_count": 19,
     "metadata": {},
     "output_type": "execute_result"
    }
   ],
   "source": [
    "new['county_name'][1181]"
   ]
  },
  {
   "cell_type": "code",
   "execution_count": 10,
   "metadata": {},
   "outputs": [
    {
     "data": {
      "text/html": [
       "<div>\n",
       "<style scoped>\n",
       "    .dataframe tbody tr th:only-of-type {\n",
       "        vertical-align: middle;\n",
       "    }\n",
       "\n",
       "    .dataframe tbody tr th {\n",
       "        vertical-align: top;\n",
       "    }\n",
       "\n",
       "    .dataframe thead th {\n",
       "        text-align: right;\n",
       "    }\n",
       "</style>\n",
       "<table border=\"1\" class=\"dataframe\">\n",
       "  <thead>\n",
       "    <tr style=\"text-align: right;\">\n",
       "      <th></th>\n",
       "      <th>ProviderName</th>\n",
       "      <th>PID</th>\n",
       "      <th>ProviderPracticeAddress1</th>\n",
       "      <th>ProviderPracticeAddress2</th>\n",
       "      <th>ProviderPracticeCity</th>\n",
       "      <th>ProviderPracticeStateCode</th>\n",
       "      <th>ProviderPracticeZipCode</th>\n",
       "      <th>County</th>\n",
       "      <th>zip</th>\n",
       "      <th>lat</th>\n",
       "      <th>...</th>\n",
       "      <th>population</th>\n",
       "      <th>density</th>\n",
       "      <th>county_fips</th>\n",
       "      <th>county_name</th>\n",
       "      <th>county_weights</th>\n",
       "      <th>county_names_all</th>\n",
       "      <th>county_fips_all</th>\n",
       "      <th>imprecise</th>\n",
       "      <th>military</th>\n",
       "      <th>timezone</th>\n",
       "    </tr>\n",
       "  </thead>\n",
       "  <tbody>\n",
       "    <tr>\n",
       "      <td>0</td>\n",
       "      <td>648 Medical Squadron</td>\n",
       "      <td>1</td>\n",
       "      <td>8006 CHENNAULT RD</td>\n",
       "      <td>STE 1</td>\n",
       "      <td>BROOKS CITY BASE</td>\n",
       "      <td>TX</td>\n",
       "      <td>78235</td>\n",
       "      <td>Bexar</td>\n",
       "      <td>78235.0</td>\n",
       "      <td>29.34604</td>\n",
       "      <td>...</td>\n",
       "      <td>1176.0</td>\n",
       "      <td>131.5</td>\n",
       "      <td>48029.0</td>\n",
       "      <td>Bexar</td>\n",
       "      <td>{'48029':100}</td>\n",
       "      <td>Bexar</td>\n",
       "      <td>48029</td>\n",
       "      <td>False</td>\n",
       "      <td>False</td>\n",
       "      <td>America/Chicago</td>\n",
       "    </tr>\n",
       "    <tr>\n",
       "      <td>1</td>\n",
       "      <td>Abilene Nursing and Rehabilitation Center</td>\n",
       "      <td>2</td>\n",
       "      <td>2630 OLD ANSON RD</td>\n",
       "      <td>NaN</td>\n",
       "      <td>ABILENE</td>\n",
       "      <td>TX</td>\n",
       "      <td>79603</td>\n",
       "      <td>Taylor</td>\n",
       "      <td>79603.0</td>\n",
       "      <td>32.40153</td>\n",
       "      <td>...</td>\n",
       "      <td>23064.0</td>\n",
       "      <td>160.5</td>\n",
       "      <td>48441.0</td>\n",
       "      <td>Taylor</td>\n",
       "      <td>{'48441':100}</td>\n",
       "      <td>Taylor</td>\n",
       "      <td>48441</td>\n",
       "      <td>False</td>\n",
       "      <td>False</td>\n",
       "      <td>America/Chicago</td>\n",
       "    </tr>\n",
       "    <tr>\n",
       "      <td>2</td>\n",
       "      <td>Abilene Regional Medical Center</td>\n",
       "      <td>3</td>\n",
       "      <td>6250 US HIGHWAY 83</td>\n",
       "      <td>NaN</td>\n",
       "      <td>ABILENE</td>\n",
       "      <td>TX</td>\n",
       "      <td>79606</td>\n",
       "      <td>Taylor</td>\n",
       "      <td>79606.0</td>\n",
       "      <td>32.36095</td>\n",
       "      <td>...</td>\n",
       "      <td>25290.0</td>\n",
       "      <td>141.4</td>\n",
       "      <td>48441.0</td>\n",
       "      <td>Taylor</td>\n",
       "      <td>{'48441':100}</td>\n",
       "      <td>Taylor</td>\n",
       "      <td>48441</td>\n",
       "      <td>False</td>\n",
       "      <td>False</td>\n",
       "      <td>America/Chicago</td>\n",
       "    </tr>\n",
       "    <tr>\n",
       "      <td>3</td>\n",
       "      <td>Abilene Regional Medical Center Skilled Nursin...</td>\n",
       "      <td>4</td>\n",
       "      <td>6250 HIGHWAY 83 84 AT ANTILLEY RD</td>\n",
       "      <td>NaN</td>\n",
       "      <td>ABILENE</td>\n",
       "      <td>TX</td>\n",
       "      <td>79606</td>\n",
       "      <td>Taylor</td>\n",
       "      <td>79606.0</td>\n",
       "      <td>32.36095</td>\n",
       "      <td>...</td>\n",
       "      <td>25290.0</td>\n",
       "      <td>141.4</td>\n",
       "      <td>48441.0</td>\n",
       "      <td>Taylor</td>\n",
       "      <td>{'48441':100}</td>\n",
       "      <td>Taylor</td>\n",
       "      <td>48441</td>\n",
       "      <td>False</td>\n",
       "      <td>False</td>\n",
       "      <td>America/Chicago</td>\n",
       "    </tr>\n",
       "    <tr>\n",
       "      <td>4</td>\n",
       "      <td>Absolutely Angels, Inc</td>\n",
       "      <td>5</td>\n",
       "      <td>936 E PRODUCTION DR</td>\n",
       "      <td>NaN</td>\n",
       "      <td>PILOT POINT</td>\n",
       "      <td>TX</td>\n",
       "      <td>76258</td>\n",
       "      <td>Denton</td>\n",
       "      <td>76258.0</td>\n",
       "      <td>33.37190</td>\n",
       "      <td>...</td>\n",
       "      <td>6876.0</td>\n",
       "      <td>28.8</td>\n",
       "      <td>48121.0</td>\n",
       "      <td>Denton</td>\n",
       "      <td>{'48121':95.03,'48181':4.97}</td>\n",
       "      <td>Denton|Grayson</td>\n",
       "      <td>48121|48181</td>\n",
       "      <td>False</td>\n",
       "      <td>False</td>\n",
       "      <td>America/Chicago</td>\n",
       "    </tr>\n",
       "    <tr>\n",
       "      <td>...</td>\n",
       "      <td>...</td>\n",
       "      <td>...</td>\n",
       "      <td>...</td>\n",
       "      <td>...</td>\n",
       "      <td>...</td>\n",
       "      <td>...</td>\n",
       "      <td>...</td>\n",
       "      <td>...</td>\n",
       "      <td>...</td>\n",
       "      <td>...</td>\n",
       "      <td>...</td>\n",
       "      <td>...</td>\n",
       "      <td>...</td>\n",
       "      <td>...</td>\n",
       "      <td>...</td>\n",
       "      <td>...</td>\n",
       "      <td>...</td>\n",
       "      <td>...</td>\n",
       "      <td>...</td>\n",
       "      <td>...</td>\n",
       "      <td>...</td>\n",
       "    </tr>\n",
       "    <tr>\n",
       "      <td>1808</td>\n",
       "      <td>Wortham Rehabilitation Center</td>\n",
       "      <td>1809</td>\n",
       "      <td>117 TWIN CIR</td>\n",
       "      <td>NaN</td>\n",
       "      <td>WORTHAM</td>\n",
       "      <td>TX</td>\n",
       "      <td>76693</td>\n",
       "      <td>Freestone</td>\n",
       "      <td>76693.0</td>\n",
       "      <td>31.78599</td>\n",
       "      <td>...</td>\n",
       "      <td>1629.0</td>\n",
       "      <td>8.2</td>\n",
       "      <td>48161.0</td>\n",
       "      <td>Freestone</td>\n",
       "      <td>{'48161':98.3,'48293':1.7}</td>\n",
       "      <td>Freestone|Limestone</td>\n",
       "      <td>48161|48293</td>\n",
       "      <td>False</td>\n",
       "      <td>False</td>\n",
       "      <td>America/Chicago</td>\n",
       "    </tr>\n",
       "    <tr>\n",
       "      <td>1809</td>\n",
       "      <td>Yoakum Community Hospital Swing Bed</td>\n",
       "      <td>1810</td>\n",
       "      <td>1200 CARL RAMERT DR</td>\n",
       "      <td>NaN</td>\n",
       "      <td>YOAKUM</td>\n",
       "      <td>TX</td>\n",
       "      <td>77995</td>\n",
       "      <td>Lavaca</td>\n",
       "      <td>77995.0</td>\n",
       "      <td>29.21180</td>\n",
       "      <td>...</td>\n",
       "      <td>10411.0</td>\n",
       "      <td>10.4</td>\n",
       "      <td>48285.0</td>\n",
       "      <td>Lavaca</td>\n",
       "      <td>{'48123':40.25,'48285':56.86,'48469':2.88}</td>\n",
       "      <td>Lavaca|DeWitt|Victoria</td>\n",
       "      <td>48285|48123|48469</td>\n",
       "      <td>False</td>\n",
       "      <td>False</td>\n",
       "      <td>America/Chicago</td>\n",
       "    </tr>\n",
       "    <tr>\n",
       "      <td>1810</td>\n",
       "      <td>Yoakum County Hospital</td>\n",
       "      <td>1811</td>\n",
       "      <td>412 MUSTANG DR</td>\n",
       "      <td>NaN</td>\n",
       "      <td>DENVER CITY</td>\n",
       "      <td>TX</td>\n",
       "      <td>79323</td>\n",
       "      <td>Yoakum</td>\n",
       "      <td>79323.0</td>\n",
       "      <td>32.94697</td>\n",
       "      <td>...</td>\n",
       "      <td>7432.0</td>\n",
       "      <td>11.0</td>\n",
       "      <td>48501.0</td>\n",
       "      <td>Yoakum</td>\n",
       "      <td>{'48165':12.01,'48501':87.99}</td>\n",
       "      <td>Yoakum|Gaines</td>\n",
       "      <td>48501|48165</td>\n",
       "      <td>False</td>\n",
       "      <td>False</td>\n",
       "      <td>America/Chicago</td>\n",
       "    </tr>\n",
       "    <tr>\n",
       "      <td>1811</td>\n",
       "      <td>Yoakum Nursing and Rehabilitation Center</td>\n",
       "      <td>1812</td>\n",
       "      <td>1300 CARL RAMERT DR</td>\n",
       "      <td>NaN</td>\n",
       "      <td>YOAKUM</td>\n",
       "      <td>TX</td>\n",
       "      <td>77995</td>\n",
       "      <td>Lavaca</td>\n",
       "      <td>77995.0</td>\n",
       "      <td>29.21180</td>\n",
       "      <td>...</td>\n",
       "      <td>10411.0</td>\n",
       "      <td>10.4</td>\n",
       "      <td>48285.0</td>\n",
       "      <td>Lavaca</td>\n",
       "      <td>{'48123':40.25,'48285':56.86,'48469':2.88}</td>\n",
       "      <td>Lavaca|DeWitt|Victoria</td>\n",
       "      <td>48285|48123|48469</td>\n",
       "      <td>False</td>\n",
       "      <td>False</td>\n",
       "      <td>America/Chicago</td>\n",
       "    </tr>\n",
       "    <tr>\n",
       "      <td>1812</td>\n",
       "      <td>Yorktown Nursing and Rehabilitation Center</td>\n",
       "      <td>1813</td>\n",
       "      <td>670 W 4TH ST</td>\n",
       "      <td>NaN</td>\n",
       "      <td>YORKTOWN</td>\n",
       "      <td>TX</td>\n",
       "      <td>78164</td>\n",
       "      <td>DeWitt</td>\n",
       "      <td>78164.0</td>\n",
       "      <td>28.98216</td>\n",
       "      <td>...</td>\n",
       "      <td>3287.0</td>\n",
       "      <td>5.2</td>\n",
       "      <td>48123.0</td>\n",
       "      <td>DeWitt</td>\n",
       "      <td>{'48123':95.39,'48175':4.61}</td>\n",
       "      <td>DeWitt|Goliad</td>\n",
       "      <td>48123|48175</td>\n",
       "      <td>False</td>\n",
       "      <td>False</td>\n",
       "      <td>America/Chicago</td>\n",
       "    </tr>\n",
       "  </tbody>\n",
       "</table>\n",
       "<p>1813 rows × 26 columns</p>\n",
       "</div>"
      ],
      "text/plain": [
       "                                           ProviderName   PID  \\\n",
       "0                                  648 Medical Squadron     1   \n",
       "1             Abilene Nursing and Rehabilitation Center     2   \n",
       "2                       Abilene Regional Medical Center     3   \n",
       "3     Abilene Regional Medical Center Skilled Nursin...     4   \n",
       "4                                Absolutely Angels, Inc     5   \n",
       "...                                                 ...   ...   \n",
       "1808                      Wortham Rehabilitation Center  1809   \n",
       "1809                Yoakum Community Hospital Swing Bed  1810   \n",
       "1810                             Yoakum County Hospital  1811   \n",
       "1811           Yoakum Nursing and Rehabilitation Center  1812   \n",
       "1812         Yorktown Nursing and Rehabilitation Center  1813   \n",
       "\n",
       "               ProviderPracticeAddress1 ProviderPracticeAddress2  \\\n",
       "0                     8006 CHENNAULT RD                    STE 1   \n",
       "1                     2630 OLD ANSON RD                      NaN   \n",
       "2                    6250 US HIGHWAY 83                      NaN   \n",
       "3     6250 HIGHWAY 83 84 AT ANTILLEY RD                      NaN   \n",
       "4                   936 E PRODUCTION DR                      NaN   \n",
       "...                                 ...                      ...   \n",
       "1808                       117 TWIN CIR                      NaN   \n",
       "1809                1200 CARL RAMERT DR                      NaN   \n",
       "1810                     412 MUSTANG DR                      NaN   \n",
       "1811                1300 CARL RAMERT DR                      NaN   \n",
       "1812                       670 W 4TH ST                      NaN   \n",
       "\n",
       "     ProviderPracticeCity ProviderPracticeStateCode  ProviderPracticeZipCode  \\\n",
       "0        BROOKS CITY BASE                        TX                    78235   \n",
       "1                 ABILENE                        TX                    79603   \n",
       "2                 ABILENE                        TX                    79606   \n",
       "3                 ABILENE                        TX                    79606   \n",
       "4             PILOT POINT                        TX                    76258   \n",
       "...                   ...                       ...                      ...   \n",
       "1808              WORTHAM                        TX                    76693   \n",
       "1809               YOAKUM                        TX                    77995   \n",
       "1810          DENVER CITY                        TX                    79323   \n",
       "1811               YOAKUM                        TX                    77995   \n",
       "1812             YORKTOWN                        TX                    78164   \n",
       "\n",
       "         County      zip       lat  ...  population density county_fips  \\\n",
       "0         Bexar  78235.0  29.34604  ...      1176.0   131.5     48029.0   \n",
       "1        Taylor  79603.0  32.40153  ...     23064.0   160.5     48441.0   \n",
       "2        Taylor  79606.0  32.36095  ...     25290.0   141.4     48441.0   \n",
       "3        Taylor  79606.0  32.36095  ...     25290.0   141.4     48441.0   \n",
       "4        Denton  76258.0  33.37190  ...      6876.0    28.8     48121.0   \n",
       "...         ...      ...       ...  ...         ...     ...         ...   \n",
       "1808  Freestone  76693.0  31.78599  ...      1629.0     8.2     48161.0   \n",
       "1809     Lavaca  77995.0  29.21180  ...     10411.0    10.4     48285.0   \n",
       "1810     Yoakum  79323.0  32.94697  ...      7432.0    11.0     48501.0   \n",
       "1811     Lavaca  77995.0  29.21180  ...     10411.0    10.4     48285.0   \n",
       "1812     DeWitt  78164.0  28.98216  ...      3287.0     5.2     48123.0   \n",
       "\n",
       "     county_name                              county_weights  \\\n",
       "0          Bexar                               {'48029':100}   \n",
       "1         Taylor                               {'48441':100}   \n",
       "2         Taylor                               {'48441':100}   \n",
       "3         Taylor                               {'48441':100}   \n",
       "4         Denton                {'48121':95.03,'48181':4.97}   \n",
       "...          ...                                         ...   \n",
       "1808   Freestone                  {'48161':98.3,'48293':1.7}   \n",
       "1809      Lavaca  {'48123':40.25,'48285':56.86,'48469':2.88}   \n",
       "1810      Yoakum               {'48165':12.01,'48501':87.99}   \n",
       "1811      Lavaca  {'48123':40.25,'48285':56.86,'48469':2.88}   \n",
       "1812      DeWitt                {'48123':95.39,'48175':4.61}   \n",
       "\n",
       "            county_names_all    county_fips_all  imprecise  military  \\\n",
       "0                      Bexar              48029      False     False   \n",
       "1                     Taylor              48441      False     False   \n",
       "2                     Taylor              48441      False     False   \n",
       "3                     Taylor              48441      False     False   \n",
       "4             Denton|Grayson        48121|48181      False     False   \n",
       "...                      ...                ...        ...       ...   \n",
       "1808     Freestone|Limestone        48161|48293      False     False   \n",
       "1809  Lavaca|DeWitt|Victoria  48285|48123|48469      False     False   \n",
       "1810           Yoakum|Gaines        48501|48165      False     False   \n",
       "1811  Lavaca|DeWitt|Victoria  48285|48123|48469      False     False   \n",
       "1812           DeWitt|Goliad        48123|48175      False     False   \n",
       "\n",
       "             timezone  \n",
       "0     America/Chicago  \n",
       "1     America/Chicago  \n",
       "2     America/Chicago  \n",
       "3     America/Chicago  \n",
       "4     America/Chicago  \n",
       "...               ...  \n",
       "1808  America/Chicago  \n",
       "1809  America/Chicago  \n",
       "1810  America/Chicago  \n",
       "1811  America/Chicago  \n",
       "1812  America/Chicago  \n",
       "\n",
       "[1813 rows x 26 columns]"
      ]
     },
     "execution_count": 10,
     "metadata": {},
     "output_type": "execute_result"
    }
   ],
   "source": [
    "new"
   ]
  },
  {
   "cell_type": "code",
   "execution_count": null,
   "metadata": {},
   "outputs": [],
   "source": [
    "# to csv"
   ]
  },
  {
   "cell_type": "code",
   "execution_count": 12,
   "metadata": {
    "scrolled": true
   },
   "outputs": [
    {
     "name": "stderr",
     "output_type": "stream",
     "text": [
      "ERROR:root:Internal Python error in the inspect module.\n",
      "Below is the traceback from this internal error.\n",
      "\n"
     ]
    },
    {
     "name": "stdout",
     "output_type": "stream",
     "text": [
      "Traceback (most recent call last):\n",
      "  File \"/Users/xiaopaoshangtiantang/opt/anaconda3/lib/python3.7/site-packages/IPython/core/interactiveshell.py\", line 3326, in run_code\n",
      "    exec(code_obj, self.user_global_ns, self.user_ns)\n",
      "  File \"<ipython-input-12-32c43c53b353>\", line 1, in <module>\n",
      "    new.to_csv(\"CaseStudy_1/CaseStudy_1-Yilin/Data/county_complete.csv\",index=False)\n",
      "  File \"/Users/xiaopaoshangtiantang/opt/anaconda3/lib/python3.7/site-packages/pandas/core/generic.py\", line 3228, in to_csv\n",
      "    formatter.save()\n",
      "  File \"/Users/xiaopaoshangtiantang/opt/anaconda3/lib/python3.7/site-packages/pandas/io/formats/csvs.py\", line 183, in save\n",
      "    compression=self.compression,\n",
      "  File \"/Users/xiaopaoshangtiantang/opt/anaconda3/lib/python3.7/site-packages/pandas/io/common.py\", line 399, in _get_handle\n",
      "    f = open(path_or_buf, mode, encoding=encoding, newline=\"\")\n",
      "FileNotFoundError: [Errno 2] No such file or directory: 'CaseStudy_1/CaseStudy_1-Yilin/Data/county_complete.csv'\n",
      "\n",
      "During handling of the above exception, another exception occurred:\n",
      "\n",
      "Traceback (most recent call last):\n",
      "  File \"/Users/xiaopaoshangtiantang/opt/anaconda3/lib/python3.7/site-packages/IPython/core/interactiveshell.py\", line 2040, in showtraceback\n",
      "    stb = value._render_traceback_()\n",
      "AttributeError: 'FileNotFoundError' object has no attribute '_render_traceback_'\n",
      "\n",
      "During handling of the above exception, another exception occurred:\n",
      "\n",
      "Traceback (most recent call last):\n",
      "  File \"/Users/xiaopaoshangtiantang/opt/anaconda3/lib/python3.7/site-packages/IPython/core/ultratb.py\", line 1101, in get_records\n",
      "    return _fixed_getinnerframes(etb, number_of_lines_of_context, tb_offset)\n",
      "  File \"/Users/xiaopaoshangtiantang/opt/anaconda3/lib/python3.7/site-packages/IPython/core/ultratb.py\", line 319, in wrapped\n",
      "    return f(*args, **kwargs)\n",
      "  File \"/Users/xiaopaoshangtiantang/opt/anaconda3/lib/python3.7/site-packages/IPython/core/ultratb.py\", line 353, in _fixed_getinnerframes\n",
      "    records = fix_frame_records_filenames(inspect.getinnerframes(etb, context))\n",
      "  File \"/Users/xiaopaoshangtiantang/opt/anaconda3/lib/python3.7/inspect.py\", line 1502, in getinnerframes\n",
      "    frameinfo = (tb.tb_frame,) + getframeinfo(tb, context)\n",
      "  File \"/Users/xiaopaoshangtiantang/opt/anaconda3/lib/python3.7/inspect.py\", line 1460, in getframeinfo\n",
      "    filename = getsourcefile(frame) or getfile(frame)\n",
      "  File \"/Users/xiaopaoshangtiantang/opt/anaconda3/lib/python3.7/inspect.py\", line 696, in getsourcefile\n",
      "    if getattr(getmodule(object, filename), '__loader__', None) is not None:\n",
      "  File \"/Users/xiaopaoshangtiantang/opt/anaconda3/lib/python3.7/inspect.py\", line 725, in getmodule\n",
      "    file = getabsfile(object, _filename)\n",
      "  File \"/Users/xiaopaoshangtiantang/opt/anaconda3/lib/python3.7/inspect.py\", line 709, in getabsfile\n",
      "    return os.path.normcase(os.path.abspath(_filename))\n",
      "  File \"/Users/xiaopaoshangtiantang/opt/anaconda3/lib/python3.7/posixpath.py\", line 383, in abspath\n",
      "    cwd = os.getcwd()\n",
      "FileNotFoundError: [Errno 2] No such file or directory\n"
     ]
    },
    {
     "ename": "FileNotFoundError",
     "evalue": "[Errno 2] No such file or directory: 'CaseStudy_1/CaseStudy_1-Yilin/Data/county_complete.csv'",
     "output_type": "error",
     "traceback": [
      "\u001b[0;31m---------------------------------------------------------------------------\u001b[0m"
     ]
    }
   ],
   "source": [
    "new.to_csv(\"CaseStudy_1/CaseStudy_1-Yilin/Data/county_complete.csv\",index=False)"
   ]
  },
  {
   "cell_type": "code",
   "execution_count": 24,
   "metadata": {},
   "outputs": [],
   "source": [
    "CCs = pd.read_excel('data/CCs.xlsx')  "
   ]
  },
  {
   "cell_type": "code",
   "execution_count": 25,
   "metadata": {},
   "outputs": [
    {
     "data": {
      "text/html": [
       "<div>\n",
       "<style scoped>\n",
       "    .dataframe tbody tr th:only-of-type {\n",
       "        vertical-align: middle;\n",
       "    }\n",
       "\n",
       "    .dataframe tbody tr th {\n",
       "        vertical-align: top;\n",
       "    }\n",
       "\n",
       "    .dataframe thead th {\n",
       "        text-align: right;\n",
       "    }\n",
       "</style>\n",
       "<table border=\"1\" class=\"dataframe\">\n",
       "  <thead>\n",
       "    <tr style=\"text-align: right;\">\n",
       "      <th></th>\n",
       "      <th>CCName</th>\n",
       "      <th>Lat</th>\n",
       "      <th>Lon</th>\n",
       "    </tr>\n",
       "  </thead>\n",
       "  <tbody>\n",
       "    <tr>\n",
       "      <th>0</th>\n",
       "      <td>CC1</td>\n",
       "      <td>30.581417</td>\n",
       "      <td>-96.273549</td>\n",
       "    </tr>\n",
       "    <tr>\n",
       "      <th>1</th>\n",
       "      <td>CC2</td>\n",
       "      <td>29.941640</td>\n",
       "      <td>-95.621466</td>\n",
       "    </tr>\n",
       "    <tr>\n",
       "      <th>2</th>\n",
       "      <td>CC3</td>\n",
       "      <td>29.572316</td>\n",
       "      <td>-98.664508</td>\n",
       "    </tr>\n",
       "    <tr>\n",
       "      <th>3</th>\n",
       "      <td>CC4</td>\n",
       "      <td>33.014365</td>\n",
       "      <td>-96.914067</td>\n",
       "    </tr>\n",
       "    <tr>\n",
       "      <th>4</th>\n",
       "      <td>CC5</td>\n",
       "      <td>32.906213</td>\n",
       "      <td>-97.245081</td>\n",
       "    </tr>\n",
       "  </tbody>\n",
       "</table>\n",
       "</div>"
      ],
      "text/plain": [
       "  CCName        Lat        Lon\n",
       "0    CC1  30.581417 -96.273549\n",
       "1    CC2  29.941640 -95.621466\n",
       "2    CC3  29.572316 -98.664508\n",
       "3    CC4  33.014365 -96.914067\n",
       "4    CC5  32.906213 -97.245081"
      ]
     },
     "execution_count": 25,
     "metadata": {},
     "output_type": "execute_result"
    }
   ],
   "source": [
    "CCs.head()"
   ]
  },
  {
   "cell_type": "code",
   "execution_count": 26,
   "metadata": {},
   "outputs": [
    {
     "data": {
      "text/plain": [
       "(19, 3)"
      ]
     },
     "execution_count": 26,
     "metadata": {},
     "output_type": "execute_result"
    }
   ],
   "source": [
    "CCs.shape"
   ]
  },
  {
   "cell_type": "code",
   "execution_count": 29,
   "metadata": {},
   "outputs": [],
   "source": [
    "Task = pd.read_excel('data/Task_time_Estimates.xlsx')  "
   ]
  },
  {
   "cell_type": "code",
   "execution_count": 30,
   "metadata": {},
   "outputs": [
    {
     "data": {
      "text/html": [
       "<div>\n",
       "<style scoped>\n",
       "    .dataframe tbody tr th:only-of-type {\n",
       "        vertical-align: middle;\n",
       "    }\n",
       "\n",
       "    .dataframe tbody tr th {\n",
       "        vertical-align: top;\n",
       "    }\n",
       "\n",
       "    .dataframe thead th {\n",
       "        text-align: right;\n",
       "    }\n",
       "</style>\n",
       "<table border=\"1\" class=\"dataframe\">\n",
       "  <thead>\n",
       "    <tr style=\"text-align: right;\">\n",
       "      <th></th>\n",
       "      <th>Task</th>\n",
       "      <th>ContractType</th>\n",
       "      <th>Min</th>\n",
       "      <th>Mode</th>\n",
       "      <th>Max</th>\n",
       "    </tr>\n",
       "  </thead>\n",
       "  <tbody>\n",
       "    <tr>\n",
       "      <th>0</th>\n",
       "      <td>Task1</td>\n",
       "      <td>ALL</td>\n",
       "      <td>2</td>\n",
       "      <td>2</td>\n",
       "      <td>15.0</td>\n",
       "    </tr>\n",
       "    <tr>\n",
       "      <th>1</th>\n",
       "      <td>Task2</td>\n",
       "      <td>ALL</td>\n",
       "      <td>3</td>\n",
       "      <td>5</td>\n",
       "      <td>26.0</td>\n",
       "    </tr>\n",
       "    <tr>\n",
       "      <th>2</th>\n",
       "      <td>Task3</td>\n",
       "      <td>CT2</td>\n",
       "      <td>18</td>\n",
       "      <td>62</td>\n",
       "      <td>100.0</td>\n",
       "    </tr>\n",
       "    <tr>\n",
       "      <th>3</th>\n",
       "      <td>Task4</td>\n",
       "      <td>CT1</td>\n",
       "      <td>6</td>\n",
       "      <td>10</td>\n",
       "      <td>15.0</td>\n",
       "    </tr>\n",
       "    <tr>\n",
       "      <th>4</th>\n",
       "      <td>Task5</td>\n",
       "      <td>ALL</td>\n",
       "      <td>5</td>\n",
       "      <td>8</td>\n",
       "      <td>18.0</td>\n",
       "    </tr>\n",
       "  </tbody>\n",
       "</table>\n",
       "</div>"
      ],
      "text/plain": [
       "    Task ContractType  Min  Mode    Max\n",
       "0  Task1          ALL    2     2   15.0\n",
       "1  Task2          ALL    3     5   26.0\n",
       "2  Task3          CT2   18    62  100.0\n",
       "3  Task4          CT1    6    10   15.0\n",
       "4  Task5          ALL    5     8   18.0"
      ]
     },
     "execution_count": 30,
     "metadata": {},
     "output_type": "execute_result"
    }
   ],
   "source": [
    "Task.head()"
   ]
  },
  {
   "cell_type": "code",
   "execution_count": 31,
   "metadata": {},
   "outputs": [],
   "source": [
    "Episodes = pd.read_excel('data/Episodes.xlsx')  "
   ]
  },
  {
   "cell_type": "code",
   "execution_count": 32,
   "metadata": {},
   "outputs": [
    {
     "data": {
      "text/html": [
       "<div>\n",
       "<style scoped>\n",
       "    .dataframe tbody tr th:only-of-type {\n",
       "        vertical-align: middle;\n",
       "    }\n",
       "\n",
       "    .dataframe tbody tr th {\n",
       "        vertical-align: top;\n",
       "    }\n",
       "\n",
       "    .dataframe thead th {\n",
       "        text-align: right;\n",
       "    }\n",
       "</style>\n",
       "<table border=\"1\" class=\"dataframe\">\n",
       "  <thead>\n",
       "    <tr style=\"text-align: right;\">\n",
       "      <th></th>\n",
       "      <th>PID</th>\n",
       "      <th>EpisodeID</th>\n",
       "      <th>ContractType</th>\n",
       "      <th>AdmitDate</th>\n",
       "      <th>DischargeDate</th>\n",
       "    </tr>\n",
       "  </thead>\n",
       "  <tbody>\n",
       "    <tr>\n",
       "      <th>0</th>\n",
       "      <td>530</td>\n",
       "      <td>1</td>\n",
       "      <td>CT1</td>\n",
       "      <td>12/1/2019</td>\n",
       "      <td>2020-01-30</td>\n",
       "    </tr>\n",
       "    <tr>\n",
       "      <th>1</th>\n",
       "      <td>1107</td>\n",
       "      <td>2</td>\n",
       "      <td>CT1</td>\n",
       "      <td>12/1/2019</td>\n",
       "      <td>NaT</td>\n",
       "    </tr>\n",
       "    <tr>\n",
       "      <th>2</th>\n",
       "      <td>1107</td>\n",
       "      <td>3</td>\n",
       "      <td>CT2</td>\n",
       "      <td>12/1/2019</td>\n",
       "      <td>2019-12-07</td>\n",
       "    </tr>\n",
       "    <tr>\n",
       "      <th>3</th>\n",
       "      <td>1107</td>\n",
       "      <td>4</td>\n",
       "      <td>CT2</td>\n",
       "      <td>12/1/2019</td>\n",
       "      <td>2019-12-02</td>\n",
       "    </tr>\n",
       "    <tr>\n",
       "      <th>4</th>\n",
       "      <td>1249</td>\n",
       "      <td>5</td>\n",
       "      <td>CT1</td>\n",
       "      <td>12/1/2019</td>\n",
       "      <td>NaT</td>\n",
       "    </tr>\n",
       "  </tbody>\n",
       "</table>\n",
       "</div>"
      ],
      "text/plain": [
       "    PID  EpisodeID ContractType  AdmitDate DischargeDate\n",
       "0   530          1          CT1  12/1/2019    2020-01-30\n",
       "1  1107          2          CT1  12/1/2019           NaT\n",
       "2  1107          3          CT2  12/1/2019    2019-12-07\n",
       "3  1107          4          CT2  12/1/2019    2019-12-02\n",
       "4  1249          5          CT1  12/1/2019           NaT"
      ]
     },
     "execution_count": 32,
     "metadata": {},
     "output_type": "execute_result"
    }
   ],
   "source": [
    "Episodes.head()"
   ]
  },
  {
   "cell_type": "code",
   "execution_count": 44,
   "metadata": {},
   "outputs": [
    {
     "data": {
      "text/plain": [
       "CT2    29471\n",
       "CT1    11527\n",
       "Name: ContractType, dtype: int64"
      ]
     },
     "execution_count": 44,
     "metadata": {},
     "output_type": "execute_result"
    }
   ],
   "source": [
    "Episodes.ContractType.value_counts()"
   ]
  },
  {
   "cell_type": "code",
   "execution_count": 33,
   "metadata": {},
   "outputs": [
    {
     "data": {
      "text/plain": [
       "(40998, 5)"
      ]
     },
     "execution_count": 33,
     "metadata": {},
     "output_type": "execute_result"
    }
   ],
   "source": [
    "Episodes.shape"
   ]
  },
  {
   "cell_type": "code",
   "execution_count": 38,
   "metadata": {},
   "outputs": [],
   "source": [
    "CC_SNF = pd.read_excel('data/CCs_SNFs.xlsx')\n",
    "#expected output"
   ]
  },
  {
   "cell_type": "code",
   "execution_count": 39,
   "metadata": {},
   "outputs": [
    {
     "data": {
      "text/html": [
       "<div>\n",
       "<style scoped>\n",
       "    .dataframe tbody tr th:only-of-type {\n",
       "        vertical-align: middle;\n",
       "    }\n",
       "\n",
       "    .dataframe tbody tr th {\n",
       "        vertical-align: top;\n",
       "    }\n",
       "\n",
       "    .dataframe thead th {\n",
       "        text-align: right;\n",
       "    }\n",
       "</style>\n",
       "<table border=\"1\" class=\"dataframe\">\n",
       "  <thead>\n",
       "    <tr style=\"text-align: right;\">\n",
       "      <th></th>\n",
       "      <th>PID</th>\n",
       "      <th>CCName</th>\n",
       "    </tr>\n",
       "  </thead>\n",
       "  <tbody>\n",
       "    <tr>\n",
       "      <th>0</th>\n",
       "      <td>1</td>\n",
       "      <td>CC1</td>\n",
       "    </tr>\n",
       "    <tr>\n",
       "      <th>1</th>\n",
       "      <td>2</td>\n",
       "      <td>CC2</td>\n",
       "    </tr>\n",
       "    <tr>\n",
       "      <th>2</th>\n",
       "      <td>3</td>\n",
       "      <td>CC3</td>\n",
       "    </tr>\n",
       "    <tr>\n",
       "      <th>3</th>\n",
       "      <td>4</td>\n",
       "      <td>CC4</td>\n",
       "    </tr>\n",
       "    <tr>\n",
       "      <th>4</th>\n",
       "      <td>5</td>\n",
       "      <td>CC5</td>\n",
       "    </tr>\n",
       "  </tbody>\n",
       "</table>\n",
       "</div>"
      ],
      "text/plain": [
       "   PID CCName\n",
       "0    1    CC1\n",
       "1    2    CC2\n",
       "2    3    CC3\n",
       "3    4    CC4\n",
       "4    5    CC5"
      ]
     },
     "execution_count": 39,
     "metadata": {},
     "output_type": "execute_result"
    }
   ],
   "source": [
    "CC_SNF.head()"
   ]
  }
 ],
 "metadata": {
  "kernelspec": {
   "display_name": "Python 3",
   "language": "python",
   "name": "python3"
  },
  "language_info": {
   "codemirror_mode": {
    "name": "ipython",
    "version": 3
   },
   "file_extension": ".py",
   "mimetype": "text/x-python",
   "name": "python",
   "nbconvert_exporter": "python",
   "pygments_lexer": "ipython3",
   "version": "3.7.4"
  }
 },
 "nbformat": 4,
 "nbformat_minor": 4
}
