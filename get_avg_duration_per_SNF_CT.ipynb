{
 "cells": [
  {
   "cell_type": "code",
   "execution_count": 4,
   "metadata": {},
   "outputs": [],
   "source": [
    "import pandas as pd\n",
    "pd.options.mode.chained_assignment = None\n",
    "import numpy as np"
   ]
  },
  {
   "cell_type": "code",
   "execution_count": 111,
   "metadata": {},
   "outputs": [],
   "source": [
    "episodes_dur = pd.read_csv(r'D:\\fall2020\\case study\\case study 1\\episodes_dur.csv')"
   ]
  },
  {
   "cell_type": "code",
   "execution_count": 112,
   "metadata": {},
   "outputs": [
    {
     "data": {
      "text/plain": [
       "Unnamed: 0      39845\n",
       "PID              1231\n",
       "EpisodeID       39845\n",
       "ContractType        2\n",
       "duration          269\n",
       "dtype: int64"
      ]
     },
     "execution_count": 112,
     "metadata": {},
     "output_type": "execute_result"
    }
   ],
   "source": [
    "episodes_dur.nunique()"
   ]
  },
  {
   "cell_type": "code",
   "execution_count": 113,
   "metadata": {},
   "outputs": [
    {
     "data": {
      "text/plain": [
       "Unnamed: 0      0\n",
       "PID             0\n",
       "EpisodeID       0\n",
       "ContractType    0\n",
       "duration        0\n",
       "dtype: int64"
      ]
     },
     "execution_count": 113,
     "metadata": {},
     "output_type": "execute_result"
    }
   ],
   "source": [
    "episodes_dur.isnull().sum()"
   ]
  },
  {
   "cell_type": "code",
   "execution_count": 114,
   "metadata": {},
   "outputs": [
    {
     "data": {
      "text/html": [
       "<div>\n",
       "<style scoped>\n",
       "    .dataframe tbody tr th:only-of-type {\n",
       "        vertical-align: middle;\n",
       "    }\n",
       "\n",
       "    .dataframe tbody tr th {\n",
       "        vertical-align: top;\n",
       "    }\n",
       "\n",
       "    .dataframe thead th {\n",
       "        text-align: right;\n",
       "    }\n",
       "</style>\n",
       "<table border=\"1\" class=\"dataframe\">\n",
       "  <thead>\n",
       "    <tr style=\"text-align: right;\">\n",
       "      <th></th>\n",
       "      <th>Unnamed: 0</th>\n",
       "      <th>PID</th>\n",
       "      <th>EpisodeID</th>\n",
       "      <th>ContractType</th>\n",
       "      <th>duration</th>\n",
       "    </tr>\n",
       "  </thead>\n",
       "  <tbody>\n",
       "    <tr>\n",
       "      <th>0</th>\n",
       "      <td>0</td>\n",
       "      <td>530</td>\n",
       "      <td>1</td>\n",
       "      <td>CT1</td>\n",
       "      <td>60.0</td>\n",
       "    </tr>\n",
       "    <tr>\n",
       "      <th>1</th>\n",
       "      <td>1</td>\n",
       "      <td>1107</td>\n",
       "      <td>3</td>\n",
       "      <td>CT2</td>\n",
       "      <td>6.0</td>\n",
       "    </tr>\n",
       "    <tr>\n",
       "      <th>2</th>\n",
       "      <td>2</td>\n",
       "      <td>1107</td>\n",
       "      <td>4</td>\n",
       "      <td>CT2</td>\n",
       "      <td>1.0</td>\n",
       "    </tr>\n",
       "    <tr>\n",
       "      <th>3</th>\n",
       "      <td>3</td>\n",
       "      <td>842</td>\n",
       "      <td>6</td>\n",
       "      <td>CT2</td>\n",
       "      <td>3.0</td>\n",
       "    </tr>\n",
       "    <tr>\n",
       "      <th>4</th>\n",
       "      <td>4</td>\n",
       "      <td>1178</td>\n",
       "      <td>7</td>\n",
       "      <td>CT2</td>\n",
       "      <td>16.0</td>\n",
       "    </tr>\n",
       "  </tbody>\n",
       "</table>\n",
       "</div>"
      ],
      "text/plain": [
       "   Unnamed: 0   PID  EpisodeID ContractType  duration\n",
       "0           0   530          1          CT1      60.0\n",
       "1           1  1107          3          CT2       6.0\n",
       "2           2  1107          4          CT2       1.0\n",
       "3           3   842          6          CT2       3.0\n",
       "4           4  1178          7          CT2      16.0"
      ]
     },
     "execution_count": 114,
     "metadata": {},
     "output_type": "execute_result"
    }
   ],
   "source": [
    "episodes_dur.head()"
   ]
  },
  {
   "cell_type": "code",
   "execution_count": 115,
   "metadata": {},
   "outputs": [],
   "source": [
    "episodes_dur['num_mins'] = \"\""
   ]
  },
  {
   "cell_type": "code",
   "execution_count": 116,
   "metadata": {},
   "outputs": [],
   "source": [
    "for index, row in episodes_dur.iterrows():\n",
    "    if row.ContractType == 'CT1':\n",
    "        if row.duration <= 3:\n",
    "            episodes_dur.loc[index, 'num_mins'] = 43\n",
    "        elif row.duration > 3:\n",
    "            Num_weeks = np.ceil(row.duration/7)\n",
    "            episodes_dur.loc[index, 'num_mins'] = 31 + (Num_weeks * 34) + 12\n",
    "    elif row.ContractType == 'CT2':\n",
    "        if row.duration <= 3:\n",
    "            episodes_dur.loc[index, 'num_mins'] = 117\n",
    "        elif row.duration > 3:\n",
    "            Num_weeks = np.ceil(row.duration/7)\n",
    "            episodes_dur.loc[index, 'num_mins'] = 83 + (Num_weeks * 66) + 34"
   ]
  },
  {
   "cell_type": "code",
   "execution_count": 117,
   "metadata": {},
   "outputs": [
    {
     "data": {
      "text/html": [
       "<div>\n",
       "<style scoped>\n",
       "    .dataframe tbody tr th:only-of-type {\n",
       "        vertical-align: middle;\n",
       "    }\n",
       "\n",
       "    .dataframe tbody tr th {\n",
       "        vertical-align: top;\n",
       "    }\n",
       "\n",
       "    .dataframe thead th {\n",
       "        text-align: right;\n",
       "    }\n",
       "</style>\n",
       "<table border=\"1\" class=\"dataframe\">\n",
       "  <thead>\n",
       "    <tr style=\"text-align: right;\">\n",
       "      <th></th>\n",
       "      <th>Unnamed: 0</th>\n",
       "      <th>PID</th>\n",
       "      <th>EpisodeID</th>\n",
       "      <th>ContractType</th>\n",
       "      <th>duration</th>\n",
       "      <th>num_mins</th>\n",
       "    </tr>\n",
       "  </thead>\n",
       "  <tbody>\n",
       "    <tr>\n",
       "      <th>0</th>\n",
       "      <td>0</td>\n",
       "      <td>530</td>\n",
       "      <td>1</td>\n",
       "      <td>CT1</td>\n",
       "      <td>60.0</td>\n",
       "      <td>349</td>\n",
       "    </tr>\n",
       "    <tr>\n",
       "      <th>1</th>\n",
       "      <td>1</td>\n",
       "      <td>1107</td>\n",
       "      <td>3</td>\n",
       "      <td>CT2</td>\n",
       "      <td>6.0</td>\n",
       "      <td>183</td>\n",
       "    </tr>\n",
       "    <tr>\n",
       "      <th>2</th>\n",
       "      <td>2</td>\n",
       "      <td>1107</td>\n",
       "      <td>4</td>\n",
       "      <td>CT2</td>\n",
       "      <td>1.0</td>\n",
       "      <td>117</td>\n",
       "    </tr>\n",
       "    <tr>\n",
       "      <th>3</th>\n",
       "      <td>3</td>\n",
       "      <td>842</td>\n",
       "      <td>6</td>\n",
       "      <td>CT2</td>\n",
       "      <td>3.0</td>\n",
       "      <td>117</td>\n",
       "    </tr>\n",
       "    <tr>\n",
       "      <th>4</th>\n",
       "      <td>4</td>\n",
       "      <td>1178</td>\n",
       "      <td>7</td>\n",
       "      <td>CT2</td>\n",
       "      <td>16.0</td>\n",
       "      <td>315</td>\n",
       "    </tr>\n",
       "  </tbody>\n",
       "</table>\n",
       "</div>"
      ],
      "text/plain": [
       "   Unnamed: 0   PID  EpisodeID ContractType  duration num_mins\n",
       "0           0   530          1          CT1      60.0      349\n",
       "1           1  1107          3          CT2       6.0      183\n",
       "2           2  1107          4          CT2       1.0      117\n",
       "3           3   842          6          CT2       3.0      117\n",
       "4           4  1178          7          CT2      16.0      315"
      ]
     },
     "execution_count": 117,
     "metadata": {},
     "output_type": "execute_result"
    }
   ],
   "source": [
    "episodes_dur.head()"
   ]
  },
  {
   "cell_type": "code",
   "execution_count": 118,
   "metadata": {},
   "outputs": [],
   "source": [
    "episodes_dur = pd.DataFrame(episodes_dur.drop('Unnamed: 0', axis = 1))"
   ]
  },
  {
   "cell_type": "code",
   "execution_count": 119,
   "metadata": {},
   "outputs": [],
   "source": [
    "count_series = episodes_dur.groupby(['PID', 'ContractType']).size()"
   ]
  },
  {
   "cell_type": "code",
   "execution_count": 120,
   "metadata": {},
   "outputs": [
    {
     "data": {
      "text/plain": [
       "PID  ContractType\n",
       "6    CT1              1\n",
       "     CT2             65\n",
       "8    CT1             25\n",
       "     CT2             82\n",
       "9    CT1             61\n",
       "dtype: int64"
      ]
     },
     "execution_count": 120,
     "metadata": {},
     "output_type": "execute_result"
    }
   ],
   "source": [
    "count_series.head()"
   ]
  },
  {
   "cell_type": "code",
   "execution_count": 121,
   "metadata": {},
   "outputs": [],
   "source": [
    "pat_num_PID_CT = count_series.to_frame(name = 'size').reset_index()"
   ]
  },
  {
   "cell_type": "code",
   "execution_count": 122,
   "metadata": {},
   "outputs": [
    {
     "data": {
      "text/html": [
       "<div>\n",
       "<style scoped>\n",
       "    .dataframe tbody tr th:only-of-type {\n",
       "        vertical-align: middle;\n",
       "    }\n",
       "\n",
       "    .dataframe tbody tr th {\n",
       "        vertical-align: top;\n",
       "    }\n",
       "\n",
       "    .dataframe thead th {\n",
       "        text-align: right;\n",
       "    }\n",
       "</style>\n",
       "<table border=\"1\" class=\"dataframe\">\n",
       "  <thead>\n",
       "    <tr style=\"text-align: right;\">\n",
       "      <th></th>\n",
       "      <th>PID</th>\n",
       "      <th>ContractType</th>\n",
       "      <th>size</th>\n",
       "    </tr>\n",
       "  </thead>\n",
       "  <tbody>\n",
       "    <tr>\n",
       "      <th>0</th>\n",
       "      <td>6</td>\n",
       "      <td>CT1</td>\n",
       "      <td>1</td>\n",
       "    </tr>\n",
       "    <tr>\n",
       "      <th>1</th>\n",
       "      <td>6</td>\n",
       "      <td>CT2</td>\n",
       "      <td>65</td>\n",
       "    </tr>\n",
       "    <tr>\n",
       "      <th>2</th>\n",
       "      <td>8</td>\n",
       "      <td>CT1</td>\n",
       "      <td>25</td>\n",
       "    </tr>\n",
       "    <tr>\n",
       "      <th>3</th>\n",
       "      <td>8</td>\n",
       "      <td>CT2</td>\n",
       "      <td>82</td>\n",
       "    </tr>\n",
       "    <tr>\n",
       "      <th>4</th>\n",
       "      <td>9</td>\n",
       "      <td>CT1</td>\n",
       "      <td>61</td>\n",
       "    </tr>\n",
       "  </tbody>\n",
       "</table>\n",
       "</div>"
      ],
      "text/plain": [
       "   PID ContractType  size\n",
       "0    6          CT1     1\n",
       "1    6          CT2    65\n",
       "2    8          CT1    25\n",
       "3    8          CT2    82\n",
       "4    9          CT1    61"
      ]
     },
     "execution_count": 122,
     "metadata": {},
     "output_type": "execute_result"
    }
   ],
   "source": [
    "pat_num_PID_CT.head()"
   ]
  },
  {
   "cell_type": "code",
   "execution_count": 123,
   "metadata": {},
   "outputs": [
    {
     "data": {
      "text/plain": [
       "(1913, 3)"
      ]
     },
     "execution_count": 123,
     "metadata": {},
     "output_type": "execute_result"
    }
   ],
   "source": [
    "pat_num_PID_CT.shape"
   ]
  },
  {
   "cell_type": "code",
   "execution_count": 124,
   "metadata": {},
   "outputs": [],
   "source": [
    "duration_PID_CT = episodes_dur.groupby(['PID', 'ContractType'], as_index=False)['num_mins'].sum()"
   ]
  },
  {
   "cell_type": "code",
   "execution_count": 125,
   "metadata": {},
   "outputs": [
    {
     "data": {
      "text/html": [
       "<div>\n",
       "<style scoped>\n",
       "    .dataframe tbody tr th:only-of-type {\n",
       "        vertical-align: middle;\n",
       "    }\n",
       "\n",
       "    .dataframe tbody tr th {\n",
       "        vertical-align: top;\n",
       "    }\n",
       "\n",
       "    .dataframe thead th {\n",
       "        text-align: right;\n",
       "    }\n",
       "</style>\n",
       "<table border=\"1\" class=\"dataframe\">\n",
       "  <thead>\n",
       "    <tr style=\"text-align: right;\">\n",
       "      <th></th>\n",
       "      <th>PID</th>\n",
       "      <th>ContractType</th>\n",
       "      <th>num_mins</th>\n",
       "    </tr>\n",
       "  </thead>\n",
       "  <tbody>\n",
       "    <tr>\n",
       "      <th>0</th>\n",
       "      <td>6</td>\n",
       "      <td>CT1</td>\n",
       "      <td>77.0</td>\n",
       "    </tr>\n",
       "    <tr>\n",
       "      <th>1</th>\n",
       "      <td>6</td>\n",
       "      <td>CT2</td>\n",
       "      <td>19221.0</td>\n",
       "    </tr>\n",
       "    <tr>\n",
       "      <th>2</th>\n",
       "      <td>8</td>\n",
       "      <td>CT1</td>\n",
       "      <td>6345.0</td>\n",
       "    </tr>\n",
       "    <tr>\n",
       "      <th>3</th>\n",
       "      <td>8</td>\n",
       "      <td>CT2</td>\n",
       "      <td>24114.0</td>\n",
       "    </tr>\n",
       "    <tr>\n",
       "      <th>4</th>\n",
       "      <td>9</td>\n",
       "      <td>CT1</td>\n",
       "      <td>11429.0</td>\n",
       "    </tr>\n",
       "  </tbody>\n",
       "</table>\n",
       "</div>"
      ],
      "text/plain": [
       "   PID ContractType  num_mins\n",
       "0    6          CT1      77.0\n",
       "1    6          CT2   19221.0\n",
       "2    8          CT1    6345.0\n",
       "3    8          CT2   24114.0\n",
       "4    9          CT1   11429.0"
      ]
     },
     "execution_count": 125,
     "metadata": {},
     "output_type": "execute_result"
    }
   ],
   "source": [
    "duration_PID_CT.head()"
   ]
  },
  {
   "cell_type": "code",
   "execution_count": 126,
   "metadata": {},
   "outputs": [
    {
     "data": {
      "text/plain": [
       "(1913, 3)"
      ]
     },
     "execution_count": 126,
     "metadata": {},
     "output_type": "execute_result"
    }
   ],
   "source": [
    "duration_PID_CT.shape"
   ]
  },
  {
   "cell_type": "code",
   "execution_count": 127,
   "metadata": {},
   "outputs": [],
   "source": [
    "Pat_duration_sum_SNF_CT = pat_num_PID_CT.merge(duration_PID_CT, on=['PID', 'ContractType'], how='inner')"
   ]
  },
  {
   "cell_type": "code",
   "execution_count": 128,
   "metadata": {},
   "outputs": [
    {
     "data": {
      "text/html": [
       "<div>\n",
       "<style scoped>\n",
       "    .dataframe tbody tr th:only-of-type {\n",
       "        vertical-align: middle;\n",
       "    }\n",
       "\n",
       "    .dataframe tbody tr th {\n",
       "        vertical-align: top;\n",
       "    }\n",
       "\n",
       "    .dataframe thead th {\n",
       "        text-align: right;\n",
       "    }\n",
       "</style>\n",
       "<table border=\"1\" class=\"dataframe\">\n",
       "  <thead>\n",
       "    <tr style=\"text-align: right;\">\n",
       "      <th></th>\n",
       "      <th>PID</th>\n",
       "      <th>ContractType</th>\n",
       "      <th>size</th>\n",
       "      <th>num_mins</th>\n",
       "    </tr>\n",
       "  </thead>\n",
       "  <tbody>\n",
       "    <tr>\n",
       "      <th>0</th>\n",
       "      <td>6</td>\n",
       "      <td>CT1</td>\n",
       "      <td>1</td>\n",
       "      <td>77.0</td>\n",
       "    </tr>\n",
       "    <tr>\n",
       "      <th>1</th>\n",
       "      <td>6</td>\n",
       "      <td>CT2</td>\n",
       "      <td>65</td>\n",
       "      <td>19221.0</td>\n",
       "    </tr>\n",
       "    <tr>\n",
       "      <th>2</th>\n",
       "      <td>8</td>\n",
       "      <td>CT1</td>\n",
       "      <td>25</td>\n",
       "      <td>6345.0</td>\n",
       "    </tr>\n",
       "    <tr>\n",
       "      <th>3</th>\n",
       "      <td>8</td>\n",
       "      <td>CT2</td>\n",
       "      <td>82</td>\n",
       "      <td>24114.0</td>\n",
       "    </tr>\n",
       "    <tr>\n",
       "      <th>4</th>\n",
       "      <td>9</td>\n",
       "      <td>CT1</td>\n",
       "      <td>61</td>\n",
       "      <td>11429.0</td>\n",
       "    </tr>\n",
       "  </tbody>\n",
       "</table>\n",
       "</div>"
      ],
      "text/plain": [
       "   PID ContractType  size  num_mins\n",
       "0    6          CT1     1      77.0\n",
       "1    6          CT2    65   19221.0\n",
       "2    8          CT1    25    6345.0\n",
       "3    8          CT2    82   24114.0\n",
       "4    9          CT1    61   11429.0"
      ]
     },
     "execution_count": 128,
     "metadata": {},
     "output_type": "execute_result"
    }
   ],
   "source": [
    "Pat_duration_sum_SNF_CT.head()"
   ]
  },
  {
   "cell_type": "code",
   "execution_count": 129,
   "metadata": {},
   "outputs": [],
   "source": [
    "Pat_duration_sum_SNF_CT[\"average_time_spent\"] = Pat_duration_sum_SNF_CT[\"num_mins\"]/Pat_duration_sum_SNF_CT[\"size\"]"
   ]
  },
  {
   "cell_type": "code",
   "execution_count": 130,
   "metadata": {},
   "outputs": [
    {
     "data": {
      "text/html": [
       "<div>\n",
       "<style scoped>\n",
       "    .dataframe tbody tr th:only-of-type {\n",
       "        vertical-align: middle;\n",
       "    }\n",
       "\n",
       "    .dataframe tbody tr th {\n",
       "        vertical-align: top;\n",
       "    }\n",
       "\n",
       "    .dataframe thead th {\n",
       "        text-align: right;\n",
       "    }\n",
       "</style>\n",
       "<table border=\"1\" class=\"dataframe\">\n",
       "  <thead>\n",
       "    <tr style=\"text-align: right;\">\n",
       "      <th></th>\n",
       "      <th>PID</th>\n",
       "      <th>ContractType</th>\n",
       "      <th>size</th>\n",
       "      <th>num_mins</th>\n",
       "      <th>average_time_spent</th>\n",
       "    </tr>\n",
       "  </thead>\n",
       "  <tbody>\n",
       "    <tr>\n",
       "      <th>0</th>\n",
       "      <td>6</td>\n",
       "      <td>CT1</td>\n",
       "      <td>1</td>\n",
       "      <td>77.0</td>\n",
       "      <td>77.000000</td>\n",
       "    </tr>\n",
       "    <tr>\n",
       "      <th>1</th>\n",
       "      <td>6</td>\n",
       "      <td>CT2</td>\n",
       "      <td>65</td>\n",
       "      <td>19221.0</td>\n",
       "      <td>295.707692</td>\n",
       "    </tr>\n",
       "    <tr>\n",
       "      <th>2</th>\n",
       "      <td>8</td>\n",
       "      <td>CT1</td>\n",
       "      <td>25</td>\n",
       "      <td>6345.0</td>\n",
       "      <td>253.800000</td>\n",
       "    </tr>\n",
       "    <tr>\n",
       "      <th>3</th>\n",
       "      <td>8</td>\n",
       "      <td>CT2</td>\n",
       "      <td>82</td>\n",
       "      <td>24114.0</td>\n",
       "      <td>294.073171</td>\n",
       "    </tr>\n",
       "    <tr>\n",
       "      <th>4</th>\n",
       "      <td>9</td>\n",
       "      <td>CT1</td>\n",
       "      <td>61</td>\n",
       "      <td>11429.0</td>\n",
       "      <td>187.360656</td>\n",
       "    </tr>\n",
       "  </tbody>\n",
       "</table>\n",
       "</div>"
      ],
      "text/plain": [
       "   PID ContractType  size  num_mins  average_time_spent\n",
       "0    6          CT1     1      77.0           77.000000\n",
       "1    6          CT2    65   19221.0          295.707692\n",
       "2    8          CT1    25    6345.0          253.800000\n",
       "3    8          CT2    82   24114.0          294.073171\n",
       "4    9          CT1    61   11429.0          187.360656"
      ]
     },
     "execution_count": 130,
     "metadata": {},
     "output_type": "execute_result"
    }
   ],
   "source": [
    "Pat_duration_sum_SNF_CT.head()"
   ]
  },
  {
   "cell_type": "code",
   "execution_count": 131,
   "metadata": {},
   "outputs": [
    {
     "data": {
      "text/plain": [
       "77.0"
      ]
     },
     "execution_count": 131,
     "metadata": {},
     "output_type": "execute_result"
    }
   ],
   "source": [
    "Pat_duration_sum_SNF_CT[(Pat_duration_sum_SNF_CT[\"PID\"] == 6)&(Pat_duration_sum_SNF_CT[\"ContractType\"] == \"CT1\")].iloc[0]['average_time_spent']"
   ]
  },
  {
   "cell_type": "code",
   "execution_count": 132,
   "metadata": {},
   "outputs": [],
   "source": [
    "Pat_duration_sum_SNF_CT.to_csv('avg_duration_per_SNF_CT.csv', index=False)"
   ]
  },
  {
   "cell_type": "code",
   "execution_count": 133,
   "metadata": {},
   "outputs": [],
   "source": [
    "def calc_CCs(pat_num, CT1_prop, CT2_prop, PID, df = Pat_duration_sum_SNF_CT):\n",
    "    if pat_num < 0: return print(\"Negative value is not acceptable. Please enter a valid number.\")\n",
    "    if (CT1_prop > 1 or CT1_prop < 0) or (CT2_prop > 1 or CT2_prop < 0): return print(\"Proportion ranges from (0,1). Please enter a valid number.\")\n",
    "    \n",
    "    avg_CT1_time = Pat_duration_sum_SNF_CT[(Pat_duration_sum_SNF_CT[\"PID\"] == PID)&(Pat_duration_sum_SNF_CT[\"ContractType\"] == \"CT1\")].iloc[0]['average_time_spent']\n",
    "    avg_CT2_time = Pat_duration_sum_SNF_CT[(Pat_duration_sum_SNF_CT[\"PID\"] == PID)&(Pat_duration_sum_SNF_CT[\"ContractType\"] == \"CT2\")].iloc[0]['average_time_spent']\n",
    "\n",
    "    \n",
    "    CCs_num = (((pat_num*CT1_prop*avg_CT1_time)/60)/52)/40 + (((pat_num*CT2_prop*avg_CT2_time)/60)/52)/40\n",
    "    \n",
    "    return CCs_num"
   ]
  },
  {
   "cell_type": "code",
   "execution_count": 134,
   "metadata": {},
   "outputs": [
    {
     "data": {
      "text/plain": [
       "0.16684664694280077"
      ]
     },
     "execution_count": 134,
     "metadata": {},
     "output_type": "execute_result"
    }
   ],
   "source": [
    "calc_CCs(100, 0.4, 0.6, 6)"
   ]
  },
  {
   "cell_type": "code",
   "execution_count": 107,
   "metadata": {},
   "outputs": [
    {
     "name": "stdout",
     "output_type": "stream",
     "text": [
      "Negative value is not acceptable. Please enter a valid number.\n"
     ]
    }
   ],
   "source": [
    "calc_CCs(-1, 0.4, 0.6, 6)"
   ]
  },
  {
   "cell_type": "code",
   "execution_count": 108,
   "metadata": {},
   "outputs": [
    {
     "name": "stdout",
     "output_type": "stream",
     "text": [
      "Proportion ranges from (0,1). Please enter a valid number.\n"
     ]
    }
   ],
   "source": [
    "calc_CCs(100, -0.4, 0.6, 6)"
   ]
  },
  {
   "cell_type": "code",
   "execution_count": 109,
   "metadata": {},
   "outputs": [
    {
     "name": "stdout",
     "output_type": "stream",
     "text": [
      "Proportion ranges from (0,1). Please enter a valid number.\n"
     ]
    }
   ],
   "source": [
    "calc_CCs(100, 0.4, -0.6, 6)"
   ]
  },
  {
   "cell_type": "code",
   "execution_count": null,
   "metadata": {},
   "outputs": [],
   "source": []
  }
 ],
 "metadata": {
  "kernelspec": {
   "display_name": "Python 3",
   "language": "python",
   "name": "python3"
  },
  "language_info": {
   "codemirror_mode": {
    "name": "ipython",
    "version": 3
   },
   "file_extension": ".py",
   "mimetype": "text/x-python",
   "name": "python",
   "nbconvert_exporter": "python",
   "pygments_lexer": "ipython3",
   "version": "3.7.3"
  }
 },
 "nbformat": 4,
 "nbformat_minor": 2
}
